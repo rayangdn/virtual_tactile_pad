{
 "cells": [
  {
   "cell_type": "code",
   "execution_count": null,
   "metadata": {},
   "outputs": [],
   "source": [
    "# Import necessary libraries\n",
    "import pandas as pd\n",
    "import numpy as np\n",
    "import matplotlib.pyplot as plt\n",
    "from sklearn.linear_model import LinearRegression\n",
    "import os\n",
    "from pathlib import Path"
   ]
  },
  {
   "cell_type": "code",
   "execution_count": null,
   "metadata": {},
   "outputs": [],
   "source": [
    "# Set display options for better visualization\n",
    "pd.set_option('display.max_rows', None)\n",
    "pd.set_option('display.max_columns', None)\n",
    "pd.set_option('display.width', None)"
   ]
  },
  {
   "cell_type": "code",
   "execution_count": null,
   "metadata": {},
   "outputs": [],
   "source": [
    "# Define the path to the CSV files\n",
    "base_path = Path('../../data/raw')\n",
    "\n",
    "# List all CSV files in the directory\n",
    "df1 = pd.read_csv(base_path / 'optitrack_data_calibration_x.csv')\n",
    "df2 = pd.read_csv(base_path / 'optitrack_data_calibration_y.csv')\n"
   ]
  },
  {
   "cell_type": "code",
   "execution_count": null,
   "metadata": {},
   "outputs": [],
   "source": [
    "# Create a simple visualization\n",
    "plt.figure(figsize=(12, 6))\n",
    "\n",
    "# Plot Dataset 1\n",
    "plt.subplot(121)\n",
    "plt.scatter(df1['x'], df1['y'], alpha=0.5)\n",
    "plt.title('Calibration X')\n",
    "plt.xlabel('X Position')\n",
    "plt.ylabel('Y Position')\n",
    "\n",
    "# Plot Dataset 2\n",
    "plt.subplot(122)\n",
    "plt.scatter(df2['x'], df2['y'], alpha=0.5)\n",
    "plt.title('Calibration Y')\n",
    "plt.xlabel('X Position')\n",
    "plt.ylabel('Y Position')\n",
    "\n",
    "plt.tight_layout()\n",
    "plt.show()"
   ]
  },
  {
   "cell_type": "code",
   "execution_count": null,
   "metadata": {},
   "outputs": [],
   "source": [
    "# Create a single visualization\n",
    "plt.figure(figsize=(10, 8))\n",
    "\n",
    "# Add blue rectangle for the bounds (-0.06 to 0.06, -0.07 to 0.07)\n",
    "rect = plt.Rectangle((-0.065, -0.085), 0.12, 0.14, \n",
    "                    facecolor='blue', alpha=0.1)\n",
    "plt.gca().add_patch(rect)\n",
    "\n",
    "# Plot both datasets on the same graph\n",
    "plt.scatter(df1['x'], df1['y'], alpha=0.5, label='Calibration X-axis')\n",
    "plt.scatter(df2['x'], df2['y'], alpha=0.5, label='Calibration Y-axis')\n",
    "\n",
    "# Add labels and title\n",
    "plt.title('Calibration Data', fontsize=30)\n",
    "plt.xlabel('X Position', fontsize=24)\n",
    "plt.ylabel('Y Position', fontsize=24)\n",
    "\n",
    "# Set axis limits to show the full rectangle\n",
    "plt.xlim(-0.08, 0.08)  # Slightly larger than rectangle to show boundaries\n",
    "plt.ylim(-0.09, 0.09)\n",
    "\n",
    "# Increase tick label size\n",
    "plt.xticks(fontsize=20)\n",
    "plt.yticks(fontsize=20)\n",
    "\n",
    "# Add legend\n",
    "plt.legend(fontsize=24)\n",
    "\n",
    "# Adjust layout\n",
    "plt.tight_layout()\n",
    "plt.show()"
   ]
  },
  {
   "cell_type": "code",
   "execution_count": null,
   "metadata": {},
   "outputs": [],
   "source": [
    "# Perform linear regression for dataset 1\n",
    "X1 = df1['x'].values.reshape(-1, 1)\n",
    "y1 = df1['y'].values\n",
    "reg1 = LinearRegression().fit(X1, y1)\n",
    "slope1 = reg1.coef_[0]\n",
    "intercept1 = reg1.intercept_\n",
    "\n",
    "# Perform linear regression for dataset 2\n",
    "X2 = df2['x'].values.reshape(-1, 1)\n",
    "y2 = df2['y'].values\n",
    "reg2 = LinearRegression().fit(X2, y2)\n",
    "slope2 = reg2.coef_[0]\n",
    "intercept2 = reg2.intercept_"
   ]
  },
  {
   "cell_type": "code",
   "execution_count": null,
   "metadata": {},
   "outputs": [],
   "source": [
    "# Print regression equations\n",
    "print(\"Line 1 equation: y = {:.4f}x + {:.4f}\".format(slope1, intercept1))\n",
    "print(\"Line 2 equation: y = {:.4f}x + {:.4f}\".format(slope2, intercept2))\n",
    "# Calculate R-squared scores\n",
    "r2_score1 = reg1.score(X1, y1)\n",
    "r2_score2 = reg2.score(X2, y2)\n",
    "print(\"\\nR-squared scores:\")\n",
    "print(f\"Line 1: {r2_score1:.4f}\")\n",
    "print(f\"Line 2: {r2_score2:.4f}\")"
   ]
  },
  {
   "cell_type": "code",
   "execution_count": null,
   "metadata": {},
   "outputs": [],
   "source": [
    "# Find intersection point\n",
    "# Solve: slope1 * x + intercept1 = slope2 * x + intercept2\n",
    "x_intersection = (intercept2 - intercept1) / (slope1 - slope2)\n",
    "y_intersection = slope1 * x_intersection + intercept1\n",
    "\n",
    "print(\"\\nIntersection point:\")\n",
    "print(f\"x = {x_intersection:.4f}\")\n",
    "print(f\"y = {y_intersection:.4f}\")"
   ]
  },
  {
   "cell_type": "code",
   "execution_count": null,
   "metadata": {},
   "outputs": [],
   "source": [
    "# Create a single visualization\n",
    "plt.figure(figsize=(10, 8))\n",
    "\n",
    "\n",
    "# Plot both datasets on the same graph\n",
    "plt.scatter(df1['x'], df1['y'], alpha=0.5, label='Calibration X-axis')\n",
    "plt.scatter(df2['x'], df2['y'], alpha=0.5, label='Calibration Y-axis')\n",
    "\n",
    "# Add regression lines\n",
    "x_range = np.linspace(plt.xlim()[0], plt.xlim()[1], 100)\n",
    "plt.plot(x_range, slope1 * x_range + intercept1, '--', color='red', \n",
    "         label=f'X-axis Regression')\n",
    "plt.plot(x_range, slope2 * x_range + intercept2, '--', color='green',\n",
    "         label=f'Y-axis Regression')\n",
    "\n",
    "# Add and label the OptiTrack origin point\n",
    "plt.scatter(0, 0, color='red', s=100, marker='x', linewidth=2, label='OptiTrack Origin')\n",
    "plt.annotate('OptiTrack Origin', \n",
    "            xy=(0, 0), \n",
    "            xytext=(0.01, 0.01),\n",
    "            fontsize=16,\n",
    "            arrowprops=dict(facecolor='black', shrink=0.05))\n",
    "\n",
    "# Add and label the intersection point (Pad origin)\n",
    "plt.scatter(x_intersection, y_intersection, color='purple', s=100, marker='*', linewidth=2, \n",
    "           label=f'Pad Origin')\n",
    "plt.annotate('Pad Origin', \n",
    "            xy=(x_intersection, y_intersection),\n",
    "            xytext=(x_intersection + 0.01, y_intersection + 0.01),\n",
    "            fontsize=16,\n",
    "            arrowprops=dict(facecolor='black', shrink=0.05))\n",
    "\n",
    "# Add labels and title\n",
    "plt.title('OptiTrack Calibration', fontsize=30)\n",
    "plt.xlabel('X Position (m)', fontsize=24)\n",
    "plt.ylabel('Y Position (m)', fontsize=24)\n",
    "\n",
    "# Set axis limits to show the full rectangle\n",
    "plt.xlim(-0.08, 0.08)  # Slightly larger than rectangle to show boundaries\n",
    "plt.ylim(-0.09, 0.09)\n",
    "\n",
    "# Increase tick label size\n",
    "plt.xticks(fontsize=20)\n",
    "plt.yticks(fontsize=20)\n",
    "\n",
    "# Add legend\n",
    "plt.legend(fontsize=20, loc='best')\n",
    "\n",
    "# Adjust layout\n",
    "plt.tight_layout()\n",
    "\n",
    "#plt.savefig('../../img/optitrack_calibration.png', dpi=600, bbox_inches='tight', format='png')\n",
    "\n",
    "plt.show()"
   ]
  },
  {
   "cell_type": "code",
   "execution_count": null,
   "metadata": {},
   "outputs": [],
   "source": []
  }
 ],
 "metadata": {
  "kernelspec": {
   "display_name": "viz_env",
   "language": "python",
   "name": "python3"
  },
  "language_info": {
   "codemirror_mode": {
    "name": "ipython",
    "version": 3
   },
   "file_extension": ".py",
   "mimetype": "text/x-python",
   "name": "python",
   "nbconvert_exporter": "python",
   "pygments_lexer": "ipython3",
   "version": "3.11.10"
  }
 },
 "nbformat": 4,
 "nbformat_minor": 2
}
